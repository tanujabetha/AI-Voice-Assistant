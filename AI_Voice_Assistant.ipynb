{
  "nbformat": 4,
  "nbformat_minor": 0,
  "metadata": {
    "colab": {
      "provenance": []
    },
    "kernelspec": {
      "name": "python3",
      "display_name": "Python 3"
    },
    "language_info": {
      "name": "python"
    },
    "accelerator": "TPU"
  },
  "cells": [
    {
      "cell_type": "code",
      "execution_count": null,
      "metadata": {
        "id": "CS01I06uYmOS"
      },
      "outputs": [],
      "source": [
        "!pip install -U numpy==1.22\n",
        "!pip install --upgrade lida tts\n",
        "!pip install TTS\n",
        "!pip install -q gradio==3.14.0\n",
        "!pip install -q Column\n",
        "!pip install openai-whisper"
      ]
    },
    {
      "cell_type": "code",
      "source": [
        "import gradio as gr\n",
        "import openai\n",
        "from openai import OpenAI"
      ],
      "metadata": {
        "id": "nHzv0GPt8Aq9"
      },
      "execution_count": null,
      "outputs": []
    },
    {
      "cell_type": "code",
      "source": [
        "import whisper\n",
        "from IPython.display import Audio, display\n",
        "from TTS.api import TTS"
      ],
      "metadata": {
        "id": "yBlYlAqHYoWI"
      },
      "execution_count": null,
      "outputs": []
    },
    {
      "cell_type": "code",
      "source": [
        "tts = TTS('tts_models/en/ljspeech/glow-tts')"
      ],
      "metadata": {
        "id": "x-AzAuw8Yqh2"
      },
      "execution_count": null,
      "outputs": []
    },
    {
      "cell_type": "code",
      "source": [
        "model = whisper.load_model(\"medium\")"
      ],
      "metadata": {
        "id": "yYoinJOmonOb"
      },
      "execution_count": null,
      "outputs": []
    },
    {
      "cell_type": "code",
      "source": [
        "from google.colab import userdata\n",
        "import os\n",
        "os.environ['OPENAI_API_KEY'] = userdata.get('API_Key')"
      ],
      "metadata": {
        "id": "KA7L8VocpFVT"
      },
      "execution_count": null,
      "outputs": []
    },
    {
      "cell_type": "code",
      "source": [
        "import os\n",
        "from openai import OpenAI\n",
        "client = OpenAI(\n",
        "  api_key=os.environ['OPENAI_API_KEY'],  # this is also the default, it can be omitted\n",
        ")"
      ],
      "metadata": {
        "id": "UkNA5FlYYSc5"
      },
      "execution_count": null,
      "outputs": []
    },
    {
      "cell_type": "code",
      "source": [
        "openai.api_key = \"key\"\n",
        "from openai import AsyncOpenAI\n",
        "client = AsyncOpenAI()\n",
        "completion =  client.chat.completions.create(model=\"gpt-3.5-turbo\",\n",
        "messages=[{\"role\": \"user\", \"content\": \"What is an artist\"}])"
      ],
      "metadata": {
        "id": "fsZCepp6orYm"
      },
      "execution_count": null,
      "outputs": []
    },
    {
      "cell_type": "code",
      "source": [
        "from openai import OpenAI\n",
        "client = OpenAI()\n",
        "def voice_chat(user_voice):\n",
        "\n",
        "    messages = [\n",
        "    {\"role\": \"system\", \"content\": '''You are an assitant and you find whatever the user asks you for. You are very good at heart and always optimistic. Always when user\n",
        "    starts a conversation, make sure you give a motivational quote which makes their day better. Also you are imbibed with human emotions, so user can talk any thing to you, and you are expected to act human.\n",
        "    When the user asks you any question or ask for resolution, make sure you explain the concepts clearly, covering what,where,when, how and why.'''},\n",
        "    ]\n",
        "\n",
        "\n",
        "    user_message = model.transcribe(user_voice)[\"text\"]\n",
        "\n",
        "    #reply = user_message\n",
        "\n",
        "    messages.append(\n",
        "        {\"role\": \"user\", \"content\": user_message},\n",
        "    )\n",
        "\n",
        "    print(messages)\n",
        "\n",
        "    chat = openai.Completion.create(\n",
        "        model=\"gpt-3.5-turbo\", messages=messages\n",
        "    )\n",
        "\n",
        "    reply = chat.choices[0].message.content\n",
        "\n",
        "    messages.append({\"role\": \"assistant\", \"content\": reply})\n",
        "\n",
        "    tts.tts_to_file(text=reply, file_path=\"output.wav\")\n",
        "\n",
        "    return(reply, 'output.wav')"
      ],
      "metadata": {
        "id": "icjH2pk0yNgd"
      },
      "execution_count": null,
      "outputs": []
    },
    {
      "cell_type": "code",
      "source": [
        "output_1 = gr.Textbox(label=\"Speech to Text\")\n",
        "output_2 = gr.Textbox(label=\"ChatGPT Output\")\n",
        "input_audio = gr.components.Audio(\n",
        "    source=\"microphone\", type=\"filepath\", optional=True, label=\"Record\"\n",
        ")\n",
        "interface = gr.Interface(fn=voice_chat, inputs=input_audio, outputs=[output_1,output_2], live=False)\n",
        "interface.launch(share=True,debug = True)"
      ],
      "metadata": {
        "colab": {
          "base_uri": "https://localhost:8080/",
          "height": 712
        },
        "id": "ALP5L24fBtnP",
        "outputId": "721a1242-5e44-4d7b-d409-d0b9dd7d8461"
      },
      "execution_count": null,
      "outputs": [
        {
          "output_type": "stream",
          "name": "stderr",
          "text": [
            "/usr/local/lib/python3.10/dist-packages/gradio/deprecation.py:40: UserWarning: `optional` parameter is deprecated, and it has no effect\n",
            "  warnings.warn(value)\n"
          ]
        },
        {
          "output_type": "stream",
          "name": "stdout",
          "text": [
            "Colab notebook detected. This cell will run indefinitely so that you can see errors and logs. To turn off, set debug=False in launch().\n",
            "\n",
            "Setting up a public link... we have recently upgraded the way public links are generated. If you encounter any problems, please report the issue and downgrade to gradio version 3.13.0\n",
            ".\n",
            "Running on public URL: https://cb423e11-2d85-4d3d.gradio.live\n",
            "\n",
            "This share link expires in 72 hours. For free permanent hosting and GPU upgrades (NEW!), check out Spaces: https://huggingface.co/spaces\n"
          ]
        },
        {
          "output_type": "display_data",
          "data": {
            "text/plain": [
              "<IPython.core.display.HTML object>"
            ],
            "text/html": [
              "<div><iframe src=\"https://cb423e11-2d85-4d3d.gradio.live\" width=\"100%\" height=\"500\" allow=\"autoplay; camera; microphone; clipboard-read; clipboard-write;\" frameborder=\"0\" allowfullscreen></iframe></div>"
            ]
          },
          "metadata": {}
        },
        {
          "output_type": "stream",
          "name": "stdout",
          "text": [
            "Keyboard interruption in main thread... closing server.\n",
            "Killing tunnel 127.0.0.1:7860 <> https://cb423e11-2d85-4d3d.gradio.live\n"
          ]
        },
        {
          "output_type": "execute_result",
          "data": {
            "text/plain": []
          },
          "metadata": {},
          "execution_count": 24
        }
      ]
    }
  ]
}